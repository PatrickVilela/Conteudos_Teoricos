{
 "cells": [
  {
   "cell_type": "markdown",
   "id": "6fdfaccf",
   "metadata": {},
   "source": [
    "# Matplotlib"
   ]
  },
  {
   "cell_type": "markdown",
   "id": "df3064be",
   "metadata": {},
   "source": [
    "Matplotlib é uma biblioteca abrangente para a criação de visualizações estáticas, animadas e interativas em Python.\n",
    "\n",
    "Foi criada por John Hunter (1968-2012), que, junto com seus muitos colaboradores, dedicou uma quantidade incomensurável de tempo e esforço para produzir um software utilizado por milhares de cientistas em todo o mundo.\n",
    "\n",
    "É uma excelente biblioteca de gráficos 2D e 3D para gerar figuras científicas.\n",
    "\n",
    "Matplotlib permite que você crie figuras reprodutíveis de forma programática. Vamos aprender a usá-lo! Antes de continuar esta palestra, sugiro que você dê uma olhada na página oficial do Matplotlib: http://matplotlib.org/"
   ]
  },
  {
   "cell_type": "markdown",
   "id": "78e1390b",
   "metadata": {},
   "source": [
    "## Instalação\n",
    "Você precisará primeiro instalar Matplotlib com:\n",
    "\n",
    "conda install matplotlib\n",
    "ou pip install matplotlib\n",
    "\n"
   ]
  },
  {
   "cell_type": "markdown",
   "id": "c9c6bdc9",
   "metadata": {},
   "source": [
    "## Importação\n"
   ]
  },
  {
   "cell_type": "markdown",
   "id": "a3600cc0",
   "metadata": {},
   "source": [
    "Importe o módulo matplotlib.pyplot com o nomeplt:"
   ]
  },
  {
   "cell_type": "code",
   "execution_count": 1,
   "id": "68d55625",
   "metadata": {},
   "outputs": [],
   "source": [
    "import matplotlib.pyplot as plt"
   ]
  },
  {
   "cell_type": "markdown",
   "id": "4e41a2e1",
   "metadata": {},
   "source": [
    "Você também precisará usar essa linha para ver gráficos no notebook:"
   ]
  },
  {
   "cell_type": "code",
   "execution_count": 2,
   "id": "a14f6bed",
   "metadata": {},
   "outputs": [],
   "source": [
    "%matplotlib inline"
   ]
  },
  {
   "cell_type": "markdown",
   "id": "5169603b",
   "metadata": {},
   "source": [
    "Essa linha é apenas para notebooks jupyter. Se você estiver usando outro editor use: ** plt.show () ** no final de todos os seus comandos de traçado para que a figura apareça em outra janela."
   ]
  },
  {
   "cell_type": "markdown",
   "id": "0af49938",
   "metadata": {},
   "source": [
    "### Exemplo\n",
    "\n",
    "Vamos dar uma olhada em um exemplo muito simples usando dois arrays numpy. Você também pode usar listas, mas provavelmente você estará passando matrizes numpy ou colunas de pandas (que essencialmente também se comportam como arrays).\n",
    "\n",
    "** Os dados que queremos plotar: **"
   ]
  },
  {
   "cell_type": "code",
   "execution_count": 4,
   "id": "d15ca5e2",
   "metadata": {},
   "outputs": [],
   "source": [
    "import numpy as np"
   ]
  },
  {
   "cell_type": "code",
   "execution_count": 17,
   "id": "8ced34c8",
   "metadata": {},
   "outputs": [],
   "source": [
    "x = np.linspace(0,2, 11)"
   ]
  },
  {
   "cell_type": "code",
   "execution_count": 18,
   "id": "db0f24ae",
   "metadata": {},
   "outputs": [
    {
     "data": {
      "text/plain": [
       "array([0. , 0.2, 0.4, 0.6, 0.8, 1. , 1.2, 1.4, 1.6, 1.8, 2. ])"
      ]
     },
     "execution_count": 18,
     "metadata": {},
     "output_type": "execute_result"
    }
   ],
   "source": [
    "x"
   ]
  },
  {
   "cell_type": "code",
   "execution_count": 19,
   "id": "a4bfa245",
   "metadata": {},
   "outputs": [],
   "source": [
    "y = x * x"
   ]
  },
  {
   "cell_type": "code",
   "execution_count": 20,
   "id": "ab9e61fa",
   "metadata": {},
   "outputs": [
    {
     "data": {
      "text/plain": [
       "array([0.  , 0.04, 0.16, 0.36, 0.64, 1.  , 1.44, 1.96, 2.56, 3.24, 4.  ])"
      ]
     },
     "execution_count": 20,
     "metadata": {},
     "output_type": "execute_result"
    }
   ],
   "source": [
    "y"
   ]
  },
  {
   "cell_type": "markdown",
   "id": "0ddb62fb",
   "metadata": {},
   "source": [
    "## Comandos básicos do Matplotlib\n",
    "\n",
    "Podemos criar um gráfico de linha muito simples usando o seguinte:"
   ]
  },
  {
   "cell_type": "code",
   "execution_count": 29,
   "id": "0419c738",
   "metadata": {},
   "outputs": [
    {
     "data": {
      "image/png": "[encoded data removed]",
      "text/plain": [
       "<Figure size 432x288 with 1 Axes>"
      ]
     },
     "metadata": {
      "needs_background": "light"
     },
     "output_type": "display_data"
    }
   ],
   "source": [
    "plt.plot(x, y, 'r') # 'r' é a cor vermelha (red)\n",
    "plt.xlabel('Define o Label X')\n",
    "plt.ylabel('Define o Label Y')\n",
    "plt.title('Define o Título')\n",
    "plt.show()"
   ]
  },
  {
   "cell_type": "markdown",
   "id": "53a3fa5f",
   "metadata": {},
   "source": [
    "## Criando Multiplots na mesma tela"
   ]
  },
  {
   "cell_type": "code",
   "execution_count": 37,
   "id": "67226495",
   "metadata": {},
   "outputs": [
    {
     "data": {
      "image/png": "[encoded data removed]",
      "text/plain": [
       "<Figure size 432x288 with 2 Axes>"
      ]
     },
     "metadata": {
      "needs_background": "light"
     },
     "output_type": "display_data"
    }
   ],
   "source": [
    "# plt.subplot(nlinhas, ncols, numeroplot)\n",
    "plt.subplot(1,2,1)\n",
    "plt.plot(x, y, 'r--') # Mais nas seções de cores abaixo\n",
    "plt.subplot(1,2,2)\n",
    "plt.plot(y, x, 'g*-');"
   ]
  },
  {
   "cell_type": "markdown",
   "id": "54fa668c",
   "metadata": {},
   "source": [
    "## Introdução ao Método Orientado a Objetos"
   ]
  },
  {
   "cell_type": "markdown",
   "id": "aa218103",
   "metadata": {},
   "source": [
    "A principal idéia ao usar o método Object Oriented mais formal é criar objetos de figura e, em seguida, apenas chamar métodos ou atributos fora desse objeto. Esta abordagem é mais agradável ao lidar com uma tela que possui vários gráficos nela.\n",
    "\n",
    "Para começar, criamos uma figura de instância. Então, podemos adicionar eixos a essa figura:"
   ]
  },
  {
   "cell_type": "code",
   "execution_count": 38,
   "id": "9ee6192c",
   "metadata": {},
   "outputs": [
    {
     "data": {
      "text/plain": [
       "Text(0.5, 1.0, 'Define o Título')"
      ]
     },
     "execution_count": 38,
     "metadata": {},
     "output_type": "execute_result"
    },
    {
     "data": {
      "image/png": "[encoded data removed]",
      "text/plain": [
       "<Figure size 432x288 with 1 Axes>"
      ]
     },
     "metadata": {
      "needs_background": "light"
     },
     "output_type": "display_data"
    }
   ],
   "source": [
    "# Cria uma figura vazia\n",
    "fig = plt.figure()\n",
    "\n",
    "# Adiciona eixos à figura\n",
    "axes = fig.add_axes([0.1, 0.1, 0.8, 0.8]) # esquerda, inferior, largura, altura (faixa de 0 a 1)\n",
    "\n",
    "# Plota nos eixos especificados\n",
    "axes.plot(x, y, 'b')\n",
    "axes.set_xlabel('Define o Label X') # Perceba o uso de \"set_\" para começar métodos\n",
    "axes.set_ylabel('Define o Label Y')\n",
    "axes.set_title('Define o Título')"
   ]
  },
  {
   "cell_type": "markdown",
   "id": "97a11e8d",
   "metadata": {},
   "source": [
    "O código é um pouco mais complicado, mas a vantagem é que agora temos o controle total de onde os eixos da parcela são colocados, e podemos facilmente adicionar mais de um eixo à figura:"
   ]
  },
  {
   "cell_type": "code",
   "execution_count": 39,
   "id": "e0c4931f",
   "metadata": {},
   "outputs": [
    {
     "data": {
      "text/plain": [
       "Text(0.5, 1.0, 'Título 2')"
      ]
     },
     "execution_count": 39,
     "metadata": {},
     "output_type": "execute_result"
    },
    {
     "data": {
      "image/png": "[encoded data removed]",
      "text/plain": [
       "<Figure size 432x288 with 2 Axes>"
      ]
     },
     "metadata": {
      "needs_background": "light"
     },
     "output_type": "display_data"
    }
   ],
   "source": [
    "# Cria uma figura vazia\n",
    "fig = plt.figure()\n",
    "\n",
    "axes1 = fig.add_axes([0.1, 0.1, 0.8, 0.8]) # Eixo principal\n",
    "axes2 = fig.add_axes([0.2, 0.5, 0.4, 0.3]) # Eixos inseridos\n",
    "\n",
    "# Trabalhando no eixo maior\n",
    "axes1.plot(x, y, 'b')\n",
    "axes1.set_xlabel('Eixo X1')\n",
    "axes1.set_ylabel('Eixo Y1')\n",
    "axes1.set_title('Título 1')\n",
    "\n",
    "# Trabalhando no eixo menor\n",
    "axes2.plot(y, x, 'r')\n",
    "axes2.set_xlabel('Eixo X2')\n",
    "axes2.set_ylabel('Eixo Y2')\n",
    "axes2.set_title('Título 2')"
   ]
  },
  {
   "cell_type": "markdown",
   "id": "e04f8851",
   "metadata": {},
   "source": [
    "## Subplots()\n",
    "\n",
    "O objeto plt.subplots () atuará como um gerenciador de eixo mais automático.\n",
    "\n",
    "Uso básico:"
   ]
  },
  {
   "cell_type": "code",
   "execution_count": 31,
   "id": "09da265f",
   "metadata": {},
   "outputs": [
    {
     "data": {
      "image/png": "[encoded data removed]",
      "text/plain": [
       "<Figure size 432x288 with 1 Axes>"
      ]
     },
     "metadata": {
      "needs_background": "light"
     },
     "output_type": "display_data"
    }
   ],
   "source": [
    "# Use semelhante a plt.figure (), exceto usar o desempacotamento da tupla para agarrar as figuras e os eixos\n",
    "fig, axes = plt.subplots()\n",
    "\n",
    "# Agora use o objeto dos eixos para adicionar coisas ao gráfico\n",
    "axes.plot(x, y, 'r')\n",
    "axes.set_xlabel('x')\n",
    "axes.set_ylabel('y')\n",
    "axes.set_title('Título');"
   ]
  },
  {
   "cell_type": "markdown",
   "id": "6627a268",
   "metadata": {},
   "source": [
    "Então, você pode especificar o número de linhas e colunas ao criar o objeto subtramas ():"
   ]
  },
  {
   "cell_type": "code",
   "execution_count": 32,
   "id": "ad6fc123",
   "metadata": {},
   "outputs": [
    {
     "data": {
      "image/png": "[encoded data removed]",
      "text/plain": [
       "<Figure size 432x288 with 2 Axes>"
      ]
     },
     "metadata": {
      "needs_background": "light"
     },
     "output_type": "display_data"
    }
   ],
   "source": [
    "#Tela vazia de 1 por 2 subplots\n",
    "fig, axes = plt.subplots(nrows=1, ncols=2)"
   ]
  },
  {
   "cell_type": "code",
   "execution_count": 33,
   "id": "c83fe611",
   "metadata": {},
   "outputs": [
    {
     "data": {
      "text/plain": [
       "array([<AxesSubplot:>, <AxesSubplot:>], dtype=object)"
      ]
     },
     "execution_count": 33,
     "metadata": {},
     "output_type": "execute_result"
    }
   ],
   "source": [
    "# Eixos é uma matriz de eixos\n",
    "axes"
   ]
  },
  {
   "cell_type": "markdown",
   "id": "1ff7b423",
   "metadata": {},
   "source": [
    "Podemos iterar através desta matriz:"
   ]
  },
  {
   "cell_type": "code",
   "execution_count": 34,
   "id": "90c00271",
   "metadata": {},
   "outputs": [
    {
     "data": {
      "image/png": "[encoded data removed]",
      "text/plain": [
       "<Figure size 432x288 with 2 Axes>"
      ]
     },
     "execution_count": 34,
     "metadata": {},
     "output_type": "execute_result"
    }
   ],
   "source": [
    "for ax in axes:\n",
    "    ax.plot(x, y, 'b')\n",
    "    ax.set_xlabel('x')\n",
    "    ax.set_ylabel('y')\n",
    "    ax.set_title('Título')\n",
    "\n",
    "# Mostra o objeto fig\n",
    "fig"
   ]
  },
  {
   "cell_type": "markdown",
   "id": "0b31c060",
   "metadata": {},
   "source": [
    "Um problema comum com matplolib é sobreposição de subplots ou figuras. Nós podemos usar o método ** fig.tight_layout () ** ou ** plt.tight_layout () **, que ajusta automaticamente as posições dos eixos na tela de figuras para que não haja conteúdo sobreposto:"
   ]
  },
  {
   "cell_type": "code",
   "execution_count": 36,
   "id": "f51e35dd",
   "metadata": {},
   "outputs": [
    {
     "data": {
      "image/png": "[encoded data removed]",
      "text/plain": [
       "<Figure size 432x288 with 2 Axes>"
      ]
     },
     "metadata": {
      "needs_background": "light"
     },
     "output_type": "display_data"
    }
   ],
   "source": [
    "fig, axes = plt.subplots(nrows=1, ncols=2)\n",
    "\n",
    "for ax in axes:\n",
    "    ax.plot(x, y, 'g')\n",
    "    ax.set_xlabel('x')\n",
    "    ax.set_ylabel('y')\n",
    "    ax.set_title('título')\n",
    "\n",
    "fig    \n",
    "plt.tight_layout()"
   ]
  },
  {
   "cell_type": "markdown",
   "id": "124e25d6",
   "metadata": {},
   "source": [
    "## Salvando figuras\n",
    "A Matplotlib pode gerar saída de alta qualidade em vários formatos, incluindo PNG, JPG, EPS, SVG, PGF e PDF."
   ]
  },
  {
   "cell_type": "markdown",
   "id": "cd749f47",
   "metadata": {},
   "source": [
    "Para salvar uma figura em um arquivo, podemos usar o método savefig da classeFigure:"
   ]
  },
  {
   "cell_type": "code",
   "execution_count": 43,
   "id": "85a712a3",
   "metadata": {},
   "outputs": [],
   "source": [
    "fig.savefig(\"filename.png\")"
   ]
  },
  {
   "cell_type": "markdown",
   "id": "1600596b",
   "metadata": {},
   "source": [
    "Aqui também podemos opcionalmente especificar o DPI e escolher entre diferentes formatos de saída:"
   ]
  },
  {
   "cell_type": "code",
   "execution_count": null,
   "id": "a113b124",
   "metadata": {},
   "outputs": [],
   "source": [
    "fig.savefig(\"filename.png\", dpi=200)"
   ]
  },
  {
   "cell_type": "markdown",
   "id": "dba2f435",
   "metadata": {},
   "source": [
    "## Tipos de plots especiais\n",
    "\n",
    "Existem muitas plots especiais que podemos criar, como, por exemplo, barras, histogramas, gráficos de dispersão e muito mais. A maioria desses tipos de plots, na verdade, criaremos usando seaborn, uma biblioteca de plotagem estatística para o Python. Mas aqui estão alguns exemplos desse tipo de gráficos:"
   ]
  },
  {
   "cell_type": "code",
   "execution_count": 40,
   "id": "7ada4b92",
   "metadata": {},
   "outputs": [
    {
     "data": {
      "text/plain": [
       "<matplotlib.collections.PathCollection at 0x143642aafa0>"
      ]
     },
     "execution_count": 40,
     "metadata": {},
     "output_type": "execute_result"
    },
    {
     "data": {
      "image/png": "[encoded data removed]",
      "text/plain": [
       "<Figure size 432x288 with 1 Axes>"
      ]
     },
     "metadata": {
      "needs_background": "light"
     },
     "output_type": "display_data"
    }
   ],
   "source": [
    "plt.scatter(x,y)"
   ]
  },
  {
   "cell_type": "code",
   "execution_count": 41,
   "id": "761c2da8",
   "metadata": {},
   "outputs": [
    {
     "data": {
      "text/plain": [
       "(array([ 8., 15., 11., 11.,  7., 11., 13.,  5.,  7., 12.]),\n",
       " array([ 13. , 111.6, 210.2, 308.8, 407.4, 506. , 604.6, 703.2, 801.8,\n",
       "        900.4, 999. ]),\n",
       " <BarContainer object of 10 artists>)"
      ]
     },
     "execution_count": 41,
     "metadata": {},
     "output_type": "execute_result"
    },
    {
     "data": {
      "image/png": "[encoded data removed]",
      "text/plain": [
       "<Figure size 432x288 with 1 Axes>"
      ]
     },
     "metadata": {
      "needs_background": "light"
     },
     "output_type": "display_data"
    }
   ],
   "source": [
    "from random import sample\n",
    "data = sample(range(1, 1000), 100)\n",
    "plt.hist(data)"
   ]
  },
  {
   "cell_type": "code",
   "execution_count": 42,
   "id": "3827d47f",
   "metadata": {},
   "outputs": [
    {
     "data": {
      "image/png": "[encoded data removed]",
      "text/plain": [
       "<Figure size 432x288 with 1 Axes>"
      ]
     },
     "metadata": {
      "needs_background": "light"
     },
     "output_type": "display_data"
    }
   ],
   "source": [
    "data = [np.random.normal(0, std, 100) for std in range(1, 4)]\n",
    "\n",
    "# box plot retangular\n",
    "plt.boxplot(data,vert=True,patch_artist=True);   "
   ]
  },
  {
   "cell_type": "code",
   "execution_count": null,
   "id": "4be47cdf",
   "metadata": {},
   "outputs": [],
   "source": []
  }
 ],
 "metadata": {
  "kernelspec": {
   "display_name": "Python 3",
   "language": "python",
   "name": "python3"
  },
  "language_info": {
   "codemirror_mode": {
    "name": "ipython",
    "version": 3
   },
   "file_extension": ".py",
   "mimetype": "text/x-python",
   "name": "python",
   "nbconvert_exporter": "python",
   "pygments_lexer": "ipython3",
   "version": "3.8.8"
  }
 },
 "nbformat": 4,
 "nbformat_minor": 5
}
